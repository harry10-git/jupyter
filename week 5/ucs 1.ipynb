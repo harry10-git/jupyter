{
 "cells": [
  {
   "cell_type": "code",
   "execution_count": 13,
   "id": "cdbe62f8",
   "metadata": {},
   "outputs": [],
   "source": [
    "graph = {'S':{1:2,3:5},\n",
    "         1:{'G':1},\n",
    "         3:{'G':6,4:2},\n",
    "         'G':{4:7},\n",
    "         4:{5:3,2:4},\n",
    "         5:{2:6,'G':3},\n",
    "         2:{1:4}}"
   ]
  },
  {
   "cell_type": "code",
   "execution_count": 24,
   "id": "64c77295",
   "metadata": {},
   "outputs": [],
   "source": [
    "from queue import PriorityQueue\n",
    "\n",
    "def ucs(graph,start,goal):\n",
    "    visited = set()\n",
    "    queue = PriorityQueue()\n",
    "    \n",
    "    queue.put((0,start,[]))\n",
    "    \n",
    "    while not queue.empty():\n",
    "        (cost,node,path)= queue.get()\n",
    "        if node not in visited:\n",
    "            visited.add(node)\n",
    "            path = path + [node]\n",
    "            \n",
    "            if node == goal:\n",
    "                return path,cost\n",
    "            \n",
    "            for neighbour in graph[node]:\n",
    "                if neighbour not in visited:\n",
    "                    totalcost = cost + graph[node][neighbour]\n",
    "                    queue.put((totalcost,neighbour,path))\n",
    "                    \n"
   ]
  },
  {
   "cell_type": "code",
   "execution_count": 26,
   "id": "06fcde28",
   "metadata": {},
   "outputs": [
    {
     "name": "stdout",
     "output_type": "stream",
     "text": [
      "Lowest cost path from node S to node G: ['S', 1, 'G']\n",
      "Total Cost: 3\n"
     ]
    }
   ],
   "source": [
    "start = 'S'\n",
    "goal = 'G'\n",
    "path,cost = ucs(graph,start,goal)\n",
    " \n",
    "if path is not None:\n",
    "    print(f\"Lowest cost path from node {start} to node {goal}: {path}\")\n",
    "    print(f\"Total Cost: {cost}\")\n",
    "else:\n",
    "    print(f\"No path from node {start} to node {goal}\")\n"
   ]
  },
  {
   "cell_type": "code",
   "execution_count": null,
   "id": "3c89081c",
   "metadata": {},
   "outputs": [],
   "source": []
  }
 ],
 "metadata": {
  "kernelspec": {
   "display_name": "Python 3 (ipykernel)",
   "language": "python",
   "name": "python3"
  },
  "language_info": {
   "codemirror_mode": {
    "name": "ipython",
    "version": 3
   },
   "file_extension": ".py",
   "mimetype": "text/x-python",
   "name": "python",
   "nbconvert_exporter": "python",
   "pygments_lexer": "ipython3",
   "version": "3.9.13"
  }
 },
 "nbformat": 4,
 "nbformat_minor": 5
}
