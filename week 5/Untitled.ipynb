{
 "cells": [
  {
   "cell_type": "code",
   "execution_count": 1,
   "id": "01d206f0",
   "metadata": {},
   "outputs": [],
   "source": [
    "graph = {'a':{'b':6,'c':3}, 'b':{'c':1,'d':2}, 'c':{'b':4,'d':8,'e':2}, 'd':{'e':9}, 'e':{'d':7}}"
   ]
  },
  {
   "cell_type": "code",
   "execution_count": 20,
   "id": "ec4077d4",
   "metadata": {},
   "outputs": [],
   "source": [
    "from queue import PriorityQueue\n",
    "\n",
    "def u_c_s(graph,start,goal):\n",
    "    visited = set()\n",
    "    queue = PriorityQueue()\n",
    "    \n",
    "    queue.put((0,start,[]))\n",
    "    \n",
    "    while not queue.empty():\n",
    "        cost, node , path = queue.get()\n",
    "        if node not in visited:\n",
    "            visited.add(node)\n",
    "            path = path + [node]\n",
    "            \n",
    "            if node == goal:\n",
    "                return cost,path\n",
    "            for neighbour in graph[node]:\n",
    "                totalcost = cost + graph[node][neighbour]\n",
    "                queue.put((totalcost,neighbour,path))\n",
    "    \n",
    "    "
   ]
  },
  {
   "cell_type": "code",
   "execution_count": 21,
   "id": "6b50d3cb",
   "metadata": {},
   "outputs": [
    {
     "name": "stdout",
     "output_type": "stream",
     "text": [
      "The path is ['a', 'c', 'e']\n",
      "The cost is 5\n"
     ]
    }
   ],
   "source": [
    "start = 'a'\n",
    "goal = 'e'\n",
    "\n",
    "cost, path = u_c_s(graph,start,goal)\n",
    "print(f'The path is {path}')\n",
    "print(f'The cost is {cost}')"
   ]
  }
 ],
 "metadata": {
  "kernelspec": {
   "display_name": "Python 3 (ipykernel)",
   "language": "python",
   "name": "python3"
  },
  "language_info": {
   "codemirror_mode": {
    "name": "ipython",
    "version": 3
   },
   "file_extension": ".py",
   "mimetype": "text/x-python",
   "name": "python",
   "nbconvert_exporter": "python",
   "pygments_lexer": "ipython3",
   "version": "3.9.13"
  }
 },
 "nbformat": 4,
 "nbformat_minor": 5
}
