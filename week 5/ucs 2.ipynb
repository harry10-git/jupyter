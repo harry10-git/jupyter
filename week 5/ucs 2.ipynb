{
 "cells": [
  {
   "cell_type": "code",
   "execution_count": 3,
   "id": "6dbc244f",
   "metadata": {},
   "outputs": [],
   "source": [
    "graph = {'a':{'b':6,'c':3}, 'b':{'c':1,'d':2}, 'c':{'b':4,'d':8,'e':2}, 'd':{'e':9}, 'e':{'d':7}}"
   ]
  },
  {
   "cell_type": "code",
   "execution_count": 4,
   "id": "5dcdd221",
   "metadata": {},
   "outputs": [],
   "source": [
    "from queue import PriorityQueue\n",
    "\n",
    "def ucs(graph,start,goal):\n",
    "    visited = set()\n",
    "    queue = PriorityQueue()\n",
    "    \n",
    "    queue.put((0,start,[]))\n",
    "    \n",
    "    while not queue.empty():\n",
    "        (cost,node,path)= queue.get()\n",
    "        if node not in visited:\n",
    "            visited.add(node)\n",
    "            path = path + [node] \n",
    "            \n",
    "            if node == goal:\n",
    "                return path,cost\n",
    "            \n",
    "            for neighbour in graph[node]:\n",
    "                if neighbour not in visited:\n",
    "                    totalcost = cost + graph[node][neighbour]\n",
    "                    queue.put((totalcost,neighbour,path))\n",
    "                    \n"
   ]
  },
  {
   "cell_type": "code",
   "execution_count": 5,
   "id": "02249f56",
   "metadata": {},
   "outputs": [
    {
     "name": "stdout",
     "output_type": "stream",
     "text": [
      "The path is 5\n",
      "The cost is ['a', 'c', 'e']\n"
     ]
    }
   ],
   "source": [
    "start = 'a'\n",
    "goal = 'e'\n",
    "\n",
    "cost, path = ucs(graph,start,goal)\n",
    "print(f'The path is {path}')\n",
    "print(f'The cost is {cost}')"
   ]
  }
 ],
 "metadata": {
  "kernelspec": {
   "display_name": "Python 3 (ipykernel)",
   "language": "python",
   "name": "python3"
  },
  "language_info": {
   "codemirror_mode": {
    "name": "ipython",
    "version": 3
   },
   "file_extension": ".py",
   "mimetype": "text/x-python",
   "name": "python",
   "nbconvert_exporter": "python",
   "pygments_lexer": "ipython3",
   "version": "3.9.13"
  }
 },
 "nbformat": 4,
 "nbformat_minor": 5
}
