{
 "cells": [
  {
   "cell_type": "code",
   "execution_count": 1,
   "id": "c4de6df7",
   "metadata": {},
   "outputs": [],
   "source": [
    "# Hill Climb Search"
   ]
  },
  {
   "cell_type": "code",
   "execution_count": 120,
   "id": "d5106ecc",
   "metadata": {},
   "outputs": [
    {
     "name": "stdout",
     "output_type": "stream",
     "text": [
      "Point    108.75283169125689\n",
      "Value    11827.178400866847\n"
     ]
    }
   ],
   "source": [
    "import random\n",
    "\n",
    "def objective_function(x):\n",
    "    return x**2\n",
    "\n",
    "def hill_climb_search(start, step , maxIter):\n",
    "    curr_point = start\n",
    "    curr_value = objective_function(curr_point)\n",
    "    \n",
    "    for i in range(maxIter):\n",
    "        point = curr_point + step*(random.random()*10)\n",
    "        value = objective_function(point)\n",
    "        \n",
    "        if(value > curr_value):\n",
    "            curr_point = point\n",
    "            curr_value = value\n",
    "    return curr_point,curr_value\n",
    "\n",
    "start = 5\n",
    "step = 0.2\n",
    "maxIter = 100\n",
    "\n",
    "point, value = hill_climb_search(start,step,maxIter)\n",
    "\n",
    "print(f'Point    {point}')\n",
    "print(f'Value    {value}')"
   ]
  },
  {
   "cell_type": "code",
   "execution_count": null,
   "id": "27630f70",
   "metadata": {},
   "outputs": [],
   "source": []
  }
 ],
 "metadata": {
  "kernelspec": {
   "display_name": "Python 3 (ipykernel)",
   "language": "python",
   "name": "python3"
  },
  "language_info": {
   "codemirror_mode": {
    "name": "ipython",
    "version": 3
   },
   "file_extension": ".py",
   "mimetype": "text/x-python",
   "name": "python",
   "nbconvert_exporter": "python",
   "pygments_lexer": "ipython3",
   "version": "3.9.13"
  }
 },
 "nbformat": 4,
 "nbformat_minor": 5
}
