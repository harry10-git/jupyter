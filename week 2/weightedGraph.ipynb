{
 "cells": [
  {
   "cell_type": "code",
   "execution_count": 10,
   "id": "fff76366",
   "metadata": {},
   "outputs": [],
   "source": [
    "class Graph:\n",
    "    def __init__ (self,n):\n",
    "        adjList = dict()\n",
    "        adjMat = []\n",
    "        \n",
    "        for i in range(n):\n",
    "            adjList[f'{i}'] = []\n",
    "            l = [0 for i in range(n)]\n",
    "            adjMat.append(l)\n",
    "            \n",
    "        self.adjList = adjList\n",
    "        self.adjMat= adjMat\n",
    "        \n",
    "    def addEdge(self,u,v,weight):\n",
    "        self.adjList[f'{u}'].append([v,weight])\n",
    "        self.adjMat[u][v] = weight\n",
    "        \n",
    "    def display(self):\n",
    "        print(self.adjList)\n",
    "        print(self.adjMat)"
   ]
  },
  {
   "cell_type": "code",
   "execution_count": 11,
   "id": "08135128",
   "metadata": {},
   "outputs": [
    {
     "name": "stdout",
     "output_type": "stream",
     "text": [
      "Num of nodes 4\n",
      "Num of edges 5\n"
     ]
    }
   ],
   "source": [
    "n = int(input('Num of nodes '))\n",
    "edges = int(input('Num of edges '))\n",
    "\n",
    "g = Graph(n)"
   ]
  },
  {
   "cell_type": "code",
   "execution_count": 12,
   "id": "b125305f",
   "metadata": {},
   "outputs": [
    {
     "name": "stdout",
     "output_type": "stream",
     "text": [
      "u -- v -- weight\n",
      "0 1 6\n",
      "1 2 7\n",
      "2 0 5\n",
      "2 1 4\n",
      "3 2 10\n"
     ]
    }
   ],
   "source": [
    "print('u -- v -- weight')\n",
    "for i in range(edges):\n",
    "    u,v,weight = tuple(map(int, input().split(' ')))\n",
    "    g.addEdge(u,v,weight)"
   ]
  },
  {
   "cell_type": "code",
   "execution_count": 13,
   "id": "95af0341",
   "metadata": {},
   "outputs": [
    {
     "name": "stdout",
     "output_type": "stream",
     "text": [
      "{'0': [[1, 6]], '1': [[2, 7]], '2': [[0, 5], [1, 4]], '3': [[2, 10]]}\n",
      "[[0, 6, 0, 0], [0, 0, 7, 0], [5, 4, 0, 0], [0, 0, 10, 0]]\n"
     ]
    }
   ],
   "source": [
    "g.display()"
   ]
  },
  {
   "cell_type": "code",
   "execution_count": null,
   "id": "cf3a3424",
   "metadata": {},
   "outputs": [],
   "source": []
  }
 ],
 "metadata": {
  "kernelspec": {
   "display_name": "Python 3 (ipykernel)",
   "language": "python",
   "name": "python3"
  },
  "language_info": {
   "codemirror_mode": {
    "name": "ipython",
    "version": 3
   },
   "file_extension": ".py",
   "mimetype": "text/x-python",
   "name": "python",
   "nbconvert_exporter": "python",
   "pygments_lexer": "ipython3",
   "version": "3.9.13"
  }
 },
 "nbformat": 4,
 "nbformat_minor": 5
}
