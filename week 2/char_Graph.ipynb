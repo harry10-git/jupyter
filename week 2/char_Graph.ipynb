{
 "cells": [
  {
   "cell_type": "code",
   "execution_count": null,
   "id": "e21169d5",
   "metadata": {},
   "outputs": [],
   "source": []
  },
  {
   "cell_type": "code",
   "execution_count": 32,
   "id": "fcc98f17",
   "metadata": {},
   "outputs": [],
   "source": [
    "class Graph:\n",
    "    def __init__(self,n):\n",
    "        adjList = dict()\n",
    "        adjMat =[]\n",
    "        \n",
    "        for i in range(n):\n",
    "            adjList[f\"{chr(65+i)}\"]= []\n",
    "            l = [0 for x in range(n)]\n",
    "            adjMat.append(l)\n",
    "        \n",
    "        self.adjList = adjList\n",
    "        self.adjMat= adjMat\n",
    "            \n",
    "    def addEdge(self,u,v):\n",
    "        self.adjList[f'{u}'].append(v)\n",
    "        self.adjList[f'{v}'].append(u)\n",
    "        self.adjMat[ord(u)-65][ord(v)-65] =1\n",
    "        self.adjMat[ord(v)-65][ord(u)-65] =1\n",
    "        \n",
    "    def display(self):\n",
    "        print('Adjacency List')\n",
    "        print(self.adjList)\n",
    "        print('Adjacency Mat')\n",
    "        print(self.adjMat)"
   ]
  },
  {
   "cell_type": "code",
   "execution_count": 33,
   "id": "d0262374",
   "metadata": {},
   "outputs": [
    {
     "name": "stdout",
     "output_type": "stream",
     "text": [
      "num of nodes 3\n",
      "num of edges 2\n"
     ]
    }
   ],
   "source": [
    "n = int(input('num of nodes '))\n",
    "edges = int(input('num of edges '))\n",
    "\n",
    "g = Graph(n)"
   ]
  },
  {
   "cell_type": "code",
   "execution_count": 34,
   "id": "6cd82ecd",
   "metadata": {},
   "outputs": [
    {
     "name": "stdout",
     "output_type": "stream",
     "text": [
      "A B\n",
      "B C\n"
     ]
    }
   ],
   "source": [
    "for i in range(edges):\n",
    "    u,v= tuple(input().split(' '))\n",
    "    g.addEdge(u,v)    "
   ]
  },
  {
   "cell_type": "code",
   "execution_count": 36,
   "id": "b54c0291",
   "metadata": {},
   "outputs": [
    {
     "name": "stdout",
     "output_type": "stream",
     "text": [
      "Adjacency List\n",
      "{'A': ['B'], 'B': ['A', 'C'], 'C': ['B']}\n",
      "Adjacency Mat\n",
      "[[0, 1, 0], [1, 0, 1], [0, 1, 0]]\n"
     ]
    }
   ],
   "source": [
    "g.display()"
   ]
  },
  {
   "cell_type": "code",
   "execution_count": null,
   "id": "05a7d06c",
   "metadata": {},
   "outputs": [],
   "source": []
  }
 ],
 "metadata": {
  "kernelspec": {
   "display_name": "Python 3 (ipykernel)",
   "language": "python",
   "name": "python3"
  },
  "language_info": {
   "codemirror_mode": {
    "name": "ipython",
    "version": 3
   },
   "file_extension": ".py",
   "mimetype": "text/x-python",
   "name": "python",
   "nbconvert_exporter": "python",
   "pygments_lexer": "ipython3",
   "version": "3.9.13"
  }
 },
 "nbformat": 4,
 "nbformat_minor": 5
}
