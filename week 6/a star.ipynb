{
 "cells": [
  {
   "cell_type": "code",
   "execution_count": 1,
   "id": "c5547e58",
   "metadata": {},
   "outputs": [],
   "source": [
    "# a star search"
   ]
  },
  {
   "cell_type": "code",
   "execution_count": 11,
   "id": "aca1152f",
   "metadata": {},
   "outputs": [
    {
     "ename": "RuntimeError",
     "evalue": "Set changed size during iteration",
     "output_type": "error",
     "traceback": [
      "\u001b[0;31m---------------------------------------------------------------------------\u001b[0m",
      "\u001b[0;31mRuntimeError\u001b[0m                              Traceback (most recent call last)",
      "\u001b[0;32m/var/folders/s2/w8k1h9qn3k9c_ykkdp0sw03r0000gn/T/ipykernel_3021/1668998936.py\u001b[0m in \u001b[0;36m<module>\u001b[0;34m\u001b[0m\n\u001b[1;32m     75\u001b[0m }\n\u001b[1;32m     76\u001b[0m \u001b[0;34m\u001b[0m\u001b[0m\n\u001b[0;32m---> 77\u001b[0;31m \u001b[0maStar\u001b[0m\u001b[0;34m(\u001b[0m\u001b[0;34m'A'\u001b[0m\u001b[0;34m,\u001b[0m \u001b[0;34m'G'\u001b[0m\u001b[0;34m)\u001b[0m\u001b[0;34m\u001b[0m\u001b[0;34m\u001b[0m\u001b[0m\n\u001b[0m",
      "\u001b[0;32m/var/folders/s2/w8k1h9qn3k9c_ykkdp0sw03r0000gn/T/ipykernel_3021/1668998936.py\u001b[0m in \u001b[0;36maStar\u001b[0;34m(start, stop)\u001b[0m\n\u001b[1;32m     15\u001b[0m     \u001b[0;32mwhile\u001b[0m \u001b[0mlen\u001b[0m\u001b[0;34m(\u001b[0m\u001b[0mopen_set\u001b[0m\u001b[0;34m)\u001b[0m\u001b[0;34m>\u001b[0m\u001b[0;36m0\u001b[0m\u001b[0;34m:\u001b[0m\u001b[0;34m\u001b[0m\u001b[0;34m\u001b[0m\u001b[0m\n\u001b[1;32m     16\u001b[0m         \u001b[0mn\u001b[0m \u001b[0;34m=\u001b[0m \u001b[0;32mNone\u001b[0m\u001b[0;34m\u001b[0m\u001b[0;34m\u001b[0m\u001b[0m\n\u001b[0;32m---> 17\u001b[0;31m         \u001b[0;32mfor\u001b[0m \u001b[0mv\u001b[0m \u001b[0;32min\u001b[0m \u001b[0mopen_set\u001b[0m\u001b[0;34m:\u001b[0m\u001b[0;34m\u001b[0m\u001b[0;34m\u001b[0m\u001b[0m\n\u001b[0m\u001b[1;32m     18\u001b[0m             \u001b[0;32mif\u001b[0m \u001b[0mn\u001b[0m\u001b[0;34m==\u001b[0m\u001b[0;32mNone\u001b[0m \u001b[0;32mor\u001b[0m \u001b[0mg\u001b[0m\u001b[0;34m[\u001b[0m\u001b[0mv\u001b[0m\u001b[0;34m]\u001b[0m\u001b[0;34m+\u001b[0m\u001b[0mheuristic\u001b[0m\u001b[0;34m(\u001b[0m\u001b[0mv\u001b[0m\u001b[0;34m)\u001b[0m\u001b[0;34m<\u001b[0m\u001b[0mg\u001b[0m\u001b[0;34m[\u001b[0m\u001b[0mn\u001b[0m\u001b[0;34m]\u001b[0m \u001b[0;34m+\u001b[0m \u001b[0mheuristic\u001b[0m\u001b[0;34m(\u001b[0m\u001b[0mn\u001b[0m\u001b[0;34m)\u001b[0m\u001b[0;34m:\u001b[0m\u001b[0;34m\u001b[0m\u001b[0;34m\u001b[0m\u001b[0m\n\u001b[1;32m     19\u001b[0m                 \u001b[0mn\u001b[0m \u001b[0;34m=\u001b[0m \u001b[0mv\u001b[0m\u001b[0;34m\u001b[0m\u001b[0;34m\u001b[0m\u001b[0m\n",
      "\u001b[0;31mRuntimeError\u001b[0m: Set changed size during iteration"
     ]
    }
   ],
   "source": [
    "def get_neighbours(v):\n",
    "    if v in Graph_nodes:\n",
    "        return Graph_nodes[v]\n",
    "    else:\n",
    "        return None\n",
    "\n",
    "def aStar(start, stop):\n",
    "    open_set = set(start)\n",
    "    closed_set = set()\n",
    "    g = {}\n",
    "    parents = {}\n",
    "    g[start] = 0\n",
    "    parents[start] = start\n",
    "    \n",
    "    while len(open_set)>0:\n",
    "        n = None\n",
    "        for v in open_set:\n",
    "            if n==None or g[v]+heuristic(v)<g[n] + heuristic(n):\n",
    "                n = v\n",
    "            if n== stop or graph[n]==None:\n",
    "                pass\n",
    "            else:\n",
    "                for (m,weight) in get_neighbours(n):\n",
    "                    if m not in open_set and m not in closed_set:\n",
    "                        open_set.add(m)\n",
    "                        parents[m]=n\n",
    "                        g[m]=g[n] + weight\n",
    "                        \n",
    "                    else:\n",
    "                        if g[m] > g[n] + weight:\n",
    "                            g[m] = g[n] + weight\n",
    "                            parents[m] = n\n",
    "                            if m in closed_set:\n",
    "                                closed_set.remove(m)\n",
    "                                open_set.add(m)\n",
    "            if n ==None:\n",
    "                print('No path')\n",
    "                return None\n",
    "            \n",
    "            if n == stop:\n",
    "                path=[]\n",
    "                while parents[n]!=n:\n",
    "                    path.append(n)\n",
    "                    n = parents[n]\n",
    "                path.append(start)\n",
    "                path.reverse\n",
    "                print(f'Path is {path}')\n",
    "                return path\n",
    "            open_set.remove(n)\n",
    "            closed_set.add(n)\n",
    "        print('No path')\n",
    "        return None\n",
    "\n",
    "\n",
    "    \n",
    "def heuristic(n):\n",
    "    H_dist = {\n",
    "        'A': 11,\n",
    "        'B': 6,\n",
    "        'C': 99,\n",
    "        'D': 1,\n",
    "        'E': 7,\n",
    "        'G': 0,\n",
    "    }\n",
    "    return H_dist[n]\n",
    "\n",
    "#Describe your graph here\n",
    "graph = {\n",
    "    'A': [('B', 2), ('E', 3)],\n",
    "    'B': [('A', 2), ('C', 1), ('G', 9)],\n",
    "    'C': [('B', 1)],\n",
    "    'D': [('E', 6), ('G', 1)],\n",
    "    'E': [('A', 3), ('D', 6)],\n",
    "    'G': [('B', 9), ('D', 1)]\n",
    "}\n",
    "\n",
    "aStar('A', 'G')"
   ]
  },
  {
   "cell_type": "code",
   "execution_count": null,
   "id": "d2902d30",
   "metadata": {},
   "outputs": [],
   "source": []
  }
 ],
 "metadata": {
  "kernelspec": {
   "display_name": "Python 3 (ipykernel)",
   "language": "python",
   "name": "python3"
  },
  "language_info": {
   "codemirror_mode": {
    "name": "ipython",
    "version": 3
   },
   "file_extension": ".py",
   "mimetype": "text/x-python",
   "name": "python",
   "nbconvert_exporter": "python",
   "pygments_lexer": "ipython3",
   "version": "3.9.13"
  }
 },
 "nbformat": 4,
 "nbformat_minor": 5
}
