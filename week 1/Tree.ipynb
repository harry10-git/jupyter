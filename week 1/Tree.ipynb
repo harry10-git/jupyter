{
 "cells": [
  {
   "cell_type": "code",
   "execution_count": 1,
   "id": "d5d6b04a",
   "metadata": {},
   "outputs": [],
   "source": [
    "# Tree"
   ]
  },
  {
   "cell_type": "code",
   "execution_count": 2,
   "id": "c64bad82",
   "metadata": {},
   "outputs": [],
   "source": [
    "class Node:\n",
    "    def __init__(self,data):\n",
    "        self.data = data\n",
    "        self.left = None\n",
    "        self.right = None"
   ]
  },
  {
   "cell_type": "code",
   "execution_count": 3,
   "id": "53132ae7",
   "metadata": {},
   "outputs": [],
   "source": [
    "def inorder(root):\n",
    "    if(root is not None):\n",
    "        inorder(root.left)\n",
    "        print(f'{root.data}', end=' ')\n",
    "        inorder(root.right)"
   ]
  },
  {
   "cell_type": "code",
   "execution_count": 6,
   "id": "077b5ab2",
   "metadata": {},
   "outputs": [],
   "source": [
    "def create(val):\n",
    "    if(val == -1):\n",
    "        return None\n",
    "    \n",
    "    root = Node(val)\n",
    "    left = int(input(f'Enter L of {val} '))\n",
    "    root.left = create(left)\n",
    "    \n",
    "    right = int(input(f'Enter R of {val} '))\n",
    "    root.right = create(right)\n",
    "    \n",
    "    return root"
   ]
  },
  {
   "cell_type": "code",
   "execution_count": 7,
   "id": "43e78d18",
   "metadata": {},
   "outputs": [
    {
     "name": "stdout",
     "output_type": "stream",
     "text": [
      "Enter val of root 5\n",
      "Enter L of 5 1 \n",
      "Enter L of 1 7\n",
      "Enter L of 7 -1\n",
      "Enter R of 7 -1\n",
      "Enter R of 1 4\n",
      "Enter L of 4 -1\n",
      "Enter R of 4 -1\n",
      "Enter R of 5 9\n",
      "Enter L of 9 -1\n",
      "Enter R of 9 -1\n",
      "7 1 4 5 9 "
     ]
    }
   ],
   "source": [
    "val = int(input('Enter val of root '))\n",
    "root = create(val)\n",
    "\n",
    "inorder(root)"
   ]
  },
  {
   "cell_type": "code",
   "execution_count": null,
   "id": "8c15f878",
   "metadata": {},
   "outputs": [],
   "source": []
  }
 ],
 "metadata": {
  "kernelspec": {
   "display_name": "Python 3 (ipykernel)",
   "language": "python",
   "name": "python3"
  },
  "language_info": {
   "codemirror_mode": {
    "name": "ipython",
    "version": 3
   },
   "file_extension": ".py",
   "mimetype": "text/x-python",
   "name": "python",
   "nbconvert_exporter": "python",
   "pygments_lexer": "ipython3",
   "version": "3.9.13"
  }
 },
 "nbformat": 4,
 "nbformat_minor": 5
}
