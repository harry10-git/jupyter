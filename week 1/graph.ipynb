{
 "cells": [
  {
   "cell_type": "code",
   "execution_count": 73,
   "id": "b0c802fb",
   "metadata": {},
   "outputs": [
    {
     "name": "stdout",
     "output_type": "stream",
     "text": [
      "hello world\n"
     ]
    }
   ],
   "source": [
    "print('hello world')"
   ]
  },
  {
   "cell_type": "code",
   "execution_count": 74,
   "id": "7e585413",
   "metadata": {},
   "outputs": [],
   "source": [
    "class Graph:\n",
    "    def __init__(self, n):\n",
    "        self.adjList = dict()\n",
    "        \n",
    "        for i in range(n):\n",
    "            self.adjList[f'{i+1}'] = []\n",
    "        \n",
    "        adjMat = []\n",
    "        for i in range(n):\n",
    "            l= [0 for i in range(n)]\n",
    "            adjMat.append(l)\n",
    "            \n",
    "#         self.adjList = adjList\n",
    "        self.adjMat = adjMat\n",
    "    \n",
    "    def addEdge(self,u,v,weight):\n",
    "        self.adjList[f'{u}'].append([v,weight])\n",
    "        self.adjMat[u-1][v-1] = weight\n",
    "        \n",
    "    def display(self):\n",
    "        print('Adjacency List ')\n",
    "        print(self.adjList)\n",
    "        print('Adjacency Matrix ')\n",
    "        print(self.adjMat)"
   ]
  },
  {
   "cell_type": "code",
   "execution_count": 75,
   "id": "a0c0fde9",
   "metadata": {},
   "outputs": [
    {
     "name": "stdout",
     "output_type": "stream",
     "text": [
      "num of nodes 2\n",
      "num of edges 2\n"
     ]
    }
   ],
   "source": [
    "n = int(input('num of nodes '))\n",
    "edges = int(input('num of edges '))"
   ]
  },
  {
   "cell_type": "code",
   "execution_count": 76,
   "id": "74a6b1b2",
   "metadata": {},
   "outputs": [
    {
     "name": "stdout",
     "output_type": "stream",
     "text": [
      "1 2 1\n",
      "2 1 1\n",
      "Adjacency List \n",
      "{'1': [[2, 1]], '2': [[1, 1]]}\n",
      "Adjacency Matrix \n",
      "[[0, 1], [1, 0]]\n"
     ]
    }
   ],
   "source": [
    "g = Graph(n)\n",
    "\n",
    "for i in range(edges):\n",
    "    u,v,weight = tuple(map(int , input().split(' ')))\n",
    "    g.addEdge(u,v,weight)\n",
    "    \n",
    "g.display()"
   ]
  },
  {
   "cell_type": "code",
   "execution_count": null,
   "id": "d87567ae",
   "metadata": {},
   "outputs": [],
   "source": []
  }
 ],
 "metadata": {
  "kernelspec": {
   "display_name": "Python 3 (ipykernel)",
   "language": "python",
   "name": "python3"
  },
  "language_info": {
   "codemirror_mode": {
    "name": "ipython",
    "version": 3
   },
   "file_extension": ".py",
   "mimetype": "text/x-python",
   "name": "python",
   "nbconvert_exporter": "python",
   "pygments_lexer": "ipython3",
   "version": "3.9.13"
  }
 },
 "nbformat": 4,
 "nbformat_minor": 5
}
