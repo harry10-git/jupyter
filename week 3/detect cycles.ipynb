{
 "cells": [
  {
   "cell_type": "code",
   "execution_count": 1,
   "id": "18757ac9",
   "metadata": {},
   "outputs": [],
   "source": [
    "class Graph:\n",
    "    def __init__(self,vertices):\n",
    "        self.vertices = vertices\n",
    "        graph = dict()        \n",
    "        for i in range(vertices):\n",
    "            graph[i]= []\n",
    "        self.graph = graph\n",
    "        \n",
    "        \n",
    "    def addEdge(self,u,v):\n",
    "        self.graph[u].append(v)\n",
    "        \n",
    "    def display(self):\n",
    "        print(self.graph)\n",
    "    \n",
    "    def isCyclicUtil(self,v,visited,recStack):\n",
    "        recStack[v]= True\n",
    "        for neighbour in self.graph[v]:\n",
    "            if visited[neighbour]==False:\n",
    "                if self.isCyclicUtil(neighbour,visited,recStack)== True:\n",
    "                    return True\n",
    "            elif recStack[neighbour]==True:\n",
    "                retur\n",
    "        \n",
    "    \n",
    "    \n",
    "    def isCyclic(self):\n",
    "        visited= [False] * self.vertices\n",
    "        recStack = [False] * self.vertices\n",
    "        \n",
    "        for i in range(self.vertices):\n",
    "            if visited[i] == False:\n",
    "                visited[i]= True\n",
    "                if self.isCyclicUtil(i,visited,recStack)== True:\n",
    "                    return True\n",
    "        return False"
   ]
  },
  {
   "cell_type": "code",
   "execution_count": 2,
   "id": "5983fb30",
   "metadata": {},
   "outputs": [
    {
     "name": "stdout",
     "output_type": "stream",
     "text": [
      "{0: [1, 2], 1: [2], 2: [0, 3], 3: [3]}\n",
      "True\n"
     ]
    }
   ],
   "source": [
    "g = Graph(4)\n",
    "g.addEdge(0, 1)\n",
    "g.addEdge(0, 2)\n",
    "g.addEdge(1, 2)\n",
    "g.addEdge(2, 0)\n",
    "g.addEdge(2, 3)\n",
    "g.addEdge(3, 3)\n",
    "\n",
    "g.display()\n",
    "print(g.isCyclic())"
   ]
  },
  {
   "cell_type": "code",
   "execution_count": null,
   "id": "1972a98c",
   "metadata": {},
   "outputs": [],
   "source": [
    " def isCyclicUtil(self,v,visited,recStack):\n",
    "        visited[v] = True\n",
    "        recStack[v] = True\n",
    "        for neighbour in self.graph[v]:\n",
    "            if visited[neighbour]== False:\n",
    "                if self.isCyclicUtil(neighbour,visited,recStack) == True:\n",
    "                    return True\n",
    "            elif recStack[neighbour]==True:\n",
    "                return True\n",
    "        recStack[v]= False\n",
    "        return False\n",
    "        \n",
    "    def isCyclic(self):\n",
    "        visited = [False]* self.vertices\n",
    "        recStack = [False] * self.vertices  \n",
    "        for node in range(self.vertices):\n",
    "            if visited[node] == False:\n",
    "                if self.isCyclicUtil(node,visited,recStack)==True:\n",
    "                    return True\n",
    "        return False"
   ]
  }
 ],
 "metadata": {
  "kernelspec": {
   "display_name": "Python 3 (ipykernel)",
   "language": "python",
   "name": "python3"
  },
  "language_info": {
   "codemirror_mode": {
    "name": "ipython",
    "version": 3
   },
   "file_extension": ".py",
   "mimetype": "text/x-python",
   "name": "python",
   "nbconvert_exporter": "python",
   "pygments_lexer": "ipython3",
   "version": "3.9.13"
  }
 },
 "nbformat": 4,
 "nbformat_minor": 5
}
