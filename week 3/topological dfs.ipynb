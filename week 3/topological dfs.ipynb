{
 "cells": [
  {
   "cell_type": "code",
   "execution_count": null,
   "id": "0d968573",
   "metadata": {},
   "outputs": [],
   "source": [
    "# topological DFS"
   ]
  },
  {
   "cell_type": "code",
   "execution_count": 5,
   "id": "b7705106",
   "metadata": {},
   "outputs": [],
   "source": [
    "from collections import defaultdict\n",
    "class Graph:\n",
    "    def __init__(self,vertices):\n",
    "        self.vertices = vertices\n",
    "        self.graph = dict()\n",
    "        \n",
    "        for i in range(vertices):\n",
    "            self.graph[i]= []\n",
    "            \n",
    "    def addEdge(self,u,v):\n",
    "        self.graph[u].append(v)\n",
    "        \n",
    "    def show(self):\n",
    "        print(self.graph)\n",
    "        \n",
    "    def topoUtil(self,node,visited,stack):\n",
    "        visited[node]= True\n",
    "        for neighbour in self.graph[node]:\n",
    "            if visited[neighbour] == False:\n",
    "                self.topoUtil(neighbour, visited,stack)\n",
    "        stack.append(node)\n",
    "        \n",
    "    def topo(self):\n",
    "        visited = [False] * self.vertices\n",
    "        stack=[]\n",
    "        \n",
    "        for node in range(self.vertices):\n",
    "            \n",
    "            self.topoUtil(node,visited,stack)\n",
    "                \n",
    "            \n",
    "        stack.reverse()\n",
    "        print(stack)\n",
    "        \n",
    "    "
   ]
  },
  {
   "cell_type": "code",
   "execution_count": 6,
   "id": "b74e4acc",
   "metadata": {},
   "outputs": [
    {
     "name": "stdout",
     "output_type": "stream",
     "text": [
      "[5, 4, 3, 2, 3, 1, 0]\n"
     ]
    }
   ],
   "source": [
    "g = Graph(6)\n",
    "g.addEdge(5, 2)\n",
    "g.addEdge(5, 0)\n",
    "g.addEdge(4, 0)\n",
    "g.addEdge(4, 1)\n",
    "g.addEdge(2, 3)\n",
    "g.addEdge(3, 1)\n",
    "\n",
    "g.topo()"
   ]
  },
  {
   "cell_type": "code",
   "execution_count": null,
   "id": "1d70c6e3",
   "metadata": {},
   "outputs": [],
   "source": [
    "def topoUtil(self,v,visited,stack):\n",
    "        visited[v] = True\n",
    "        for neighbour in self.graph[v]:\n",
    "            if visited[neighbour]==False:\n",
    "                self.topoUtil(neighbour,visited,stack)\n",
    "        stack.append(v)\n",
    "    \n",
    "    def topo(self):\n",
    "        visited = [False]*self.vertices\n",
    "        stack = []\n",
    "        \n",
    "        for i in range (self.vertices):\n",
    "            if visited[i]== False:\n",
    "                self.topoUtil(i,visited,stack)\n",
    "        \n",
    "        stack.reverse()\n",
    "        print(stack)"
   ]
  }
 ],
 "metadata": {
  "kernelspec": {
   "display_name": "Python 3 (ipykernel)",
   "language": "python",
   "name": "python3"
  },
  "language_info": {
   "codemirror_mode": {
    "name": "ipython",
    "version": 3
   },
   "file_extension": ".py",
   "mimetype": "text/x-python",
   "name": "python",
   "nbconvert_exporter": "python",
   "pygments_lexer": "ipython3",
   "version": "3.9.13"
  }
 },
 "nbformat": 4,
 "nbformat_minor": 5
}
