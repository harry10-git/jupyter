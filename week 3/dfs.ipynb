{
 "cells": [
  {
   "cell_type": "code",
   "execution_count": 4,
   "id": "755a8098",
   "metadata": {},
   "outputs": [],
   "source": [
    "# DFS in python"
   ]
  },
  {
   "cell_type": "code",
   "execution_count": 3,
   "id": "d7a5a51d",
   "metadata": {},
   "outputs": [],
   "source": [
    "def dfs(graph,source,path=[]):\n",
    "    if source not in path:\n",
    "        path.append(source)\n",
    "        if source not in graph:\n",
    "            return path\n",
    "        for neighbour in graph[source]:\n",
    "            dfs(graph,neighbour,path)\n",
    "        return path"
   ]
  },
  {
   "cell_type": "code",
   "execution_count": 4,
   "id": "c48c60c7",
   "metadata": {},
   "outputs": [
    {
     "name": "stdout",
     "output_type": "stream",
     "text": [
      "['5', '0', '2', '3', '1']\n"
     ]
    }
   ],
   "source": [
    "graph = {\n",
    "    '5':['0','2'],\n",
    "    '4':['0','1'],\n",
    "    '2':['3'],\n",
    "    '3':['1'],\n",
    "}\n",
    "\n",
    "print(dfs(graph,'5'))"
   ]
  }
 ],
 "metadata": {
  "kernelspec": {
   "display_name": "Python 3 (ipykernel)",
   "language": "python",
   "name": "python3"
  },
  "language_info": {
   "codemirror_mode": {
    "name": "ipython",
    "version": 3
   },
   "file_extension": ".py",
   "mimetype": "text/x-python",
   "name": "python",
   "nbconvert_exporter": "python",
   "pygments_lexer": "ipython3",
   "version": "3.9.13"
  }
 },
 "nbformat": 4,
 "nbformat_minor": 5
}
