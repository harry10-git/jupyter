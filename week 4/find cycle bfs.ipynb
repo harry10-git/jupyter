{
 "cells": [
  {
   "cell_type": "code",
   "execution_count": 1,
   "id": "08ffd8b8",
   "metadata": {},
   "outputs": [],
   "source": [
    "# finding cycles using bfs"
   ]
  },
  {
   "cell_type": "code",
   "execution_count": 23,
   "id": "5b32dd84",
   "metadata": {},
   "outputs": [],
   "source": [
    "class Graph:\n",
    "    def __init__(self,n):\n",
    "        self.vertices = n\n",
    "        self.indegree= [0] * n\n",
    "        self.graph = dict()\n",
    "        for i in range(self.vertices):\n",
    "            self.graph[i]= []\n",
    "            \n",
    "    def addEdge(self,u,v):\n",
    "        self.graph[u].append(v)\n",
    "        self.indegree[v] +=1\n",
    "        \n",
    "    \n",
    "    def display(self):\n",
    "        print(self.graph)\n",
    "        \n",
    "    def cycleBfs(self,start):\n",
    "        in_degree = self.indegree  # allocating indegree\n",
    "        \n",
    "        queue = []\n",
    "        queue.append(start)\n",
    "        count =0\n",
    "        \n",
    "        while queue:\n",
    "            curr = queue.pop(0)\n",
    "            \n",
    "            for i in self.graph[curr]:\n",
    "                in_degree[i] -=1\n",
    "                if in_degree[i] == 0:\n",
    "                    queue.append(i)\n",
    "            count +=1\n",
    "            \n",
    "        if count == self.vertices:\n",
    "            print('NO Cycles')\n",
    "        else:\n",
    "            print('Cycles Present')\n",
    "        \n",
    "        "
   ]
  },
  {
   "cell_type": "code",
   "execution_count": 24,
   "id": "a1db42a9",
   "metadata": {},
   "outputs": [
    {
     "name": "stdout",
     "output_type": "stream",
     "text": [
      "Cycles Present\n"
     ]
    }
   ],
   "source": [
    "g = Graph(4)\n",
    "g.addEdge(0,1)\n",
    "g.addEdge(0,2)\n",
    "g.addEdge(1,2)\n",
    "g.addEdge(2,0)\n",
    "g.addEdge(2,3)\n",
    "g.addEdge(3,3)\n",
    "\n",
    "g.cycleBfs(2)"
   ]
  },
  {
   "cell_type": "code",
   "execution_count": null,
   "id": "8156d7de",
   "metadata": {},
   "outputs": [],
   "source": []
  }
 ],
 "metadata": {
  "kernelspec": {
   "display_name": "Python 3 (ipykernel)",
   "language": "python",
   "name": "python3"
  },
  "language_info": {
   "codemirror_mode": {
    "name": "ipython",
    "version": 3
   },
   "file_extension": ".py",
   "mimetype": "text/x-python",
   "name": "python",
   "nbconvert_exporter": "python",
   "pygments_lexer": "ipython3",
   "version": "3.9.13"
  }
 },
 "nbformat": 4,
 "nbformat_minor": 5
}
