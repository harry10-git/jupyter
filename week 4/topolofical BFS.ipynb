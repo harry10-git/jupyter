{
 "cells": [
  {
   "cell_type": "code",
   "execution_count": null,
   "id": "e062fc19",
   "metadata": {},
   "outputs": [],
   "source": [
    "# Kahn's algo for topological sorting"
   ]
  },
  {
   "cell_type": "code",
   "execution_count": 19,
   "id": "d3f91fa7",
   "metadata": {},
   "outputs": [],
   "source": [
    "class Graph:\n",
    "    def __init__(self,vertices):\n",
    "        self.vertices = vertices\n",
    "        \n",
    "        graph = dict()\n",
    "        for i in range(self.vertices):\n",
    "            graph[i]= []\n",
    "        self.graph = graph\n",
    "            \n",
    "    def addEdge(self,u,v):\n",
    "        self.graph[u].append(v)\n",
    "        \n",
    "    def display(self):\n",
    "        print('Displaying AdjList')\n",
    "        print(self.graph)\n",
    "        \n",
    "    def topoSort(self):\n",
    "        in_degree = [0] * self.vertices\n",
    "        # allocating values of in degrees\n",
    "        for i in self.graph:\n",
    "            for j in self.graph[i]:\n",
    "                in_degree[j] += 1\n",
    "        \n",
    "        queue = []\n",
    "        for i in range(self.vertices):\n",
    "            if in_degree[i]==0:\n",
    "                queue.append(i)\n",
    "        \n",
    "        topo = []\n",
    "        \n",
    "        while queue:\n",
    "            curr = queue.pop(0)\n",
    "            topo.append(curr)\n",
    "            \n",
    "            for i in self.graph[curr]:\n",
    "                in_degree[i] -= 1\n",
    "                if in_degree[i] ==0:\n",
    "                    queue.append(i)\n",
    "        print(topo)\n"
   ]
  },
  {
   "cell_type": "code",
   "execution_count": 20,
   "id": "fa1e92ec",
   "metadata": {},
   "outputs": [
    {
     "name": "stdout",
     "output_type": "stream",
     "text": [
      "Displaying AdjList\n",
      "{0: [], 1: [], 2: [3], 3: [1], 4: [0, 1], 5: [2, 0]}\n",
      "[4, 5, 2, 0, 3, 1]\n"
     ]
    }
   ],
   "source": [
    "g = Graph(6)\n",
    "g.addEdge(5, 2);\n",
    "g.addEdge(5, 0);\n",
    "g.addEdge(4, 0);\n",
    "g.addEdge(4, 1);\n",
    "g.addEdge(2, 3);\n",
    "g.addEdge(3, 1);\n",
    "\n",
    "g.display()\n",
    "g.topoSort()"
   ]
  },
  {
   "cell_type": "code",
   "execution_count": null,
   "id": "97ca55bd",
   "metadata": {},
   "outputs": [],
   "source": []
  }
 ],
 "metadata": {
  "kernelspec": {
   "display_name": "Python 3 (ipykernel)",
   "language": "python",
   "name": "python3"
  },
  "language_info": {
   "codemirror_mode": {
    "name": "ipython",
    "version": 3
   },
   "file_extension": ".py",
   "mimetype": "text/x-python",
   "name": "python",
   "nbconvert_exporter": "python",
   "pygments_lexer": "ipython3",
   "version": "3.9.13"
  }
 },
 "nbformat": 4,
 "nbformat_minor": 5
}
