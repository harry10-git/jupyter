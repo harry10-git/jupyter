{
 "cells": [
  {
   "cell_type": "code",
   "execution_count": null,
   "id": "e53e031c",
   "metadata": {},
   "outputs": [],
   "source": [
    "# implementation of BFS"
   ]
  },
  {
   "cell_type": "code",
   "execution_count": 16,
   "id": "2f719138",
   "metadata": {},
   "outputs": [],
   "source": [
    "class Graph:\n",
    "    def __init__(self,vertices):\n",
    "        self.vertices = vertices\n",
    "        graph = dict()\n",
    "        for i in range(self.vertices):\n",
    "            graph[i]=[]\n",
    "        self.graph= graph\n",
    "    \n",
    "    def addEdge(self,u,v):\n",
    "        self.graph[u].append(v)\n",
    "        \n",
    "    def display(self):\n",
    "        print(self.graph)\n",
    "    \n",
    "    def bfs(self,start):\n",
    "        visited = [False] * self.vertices\n",
    "        queue = []\n",
    "        queue.append(start)\n",
    "        \n",
    "        while queue:\n",
    "            curr = queue.pop(0)\n",
    "            print(curr, end=' ')\n",
    "            \n",
    "            for neighbour in self.graph[curr]:\n",
    "                if visited[neighbour] == False:\n",
    "                    queue.append(neighbour)\n",
    "                    visited[neighbour] = True"
   ]
  },
  {
   "cell_type": "code",
   "execution_count": 22,
   "id": "dd4b2130",
   "metadata": {},
   "outputs": [
    {
     "name": "stdout",
     "output_type": "stream",
     "text": [
      "{0: [1, 2], 1: [3, 4], 2: [5, 6], 3: [], 4: [], 5: [], 6: []}\n",
      "0 1 2 3 4 5 6 "
     ]
    }
   ],
   "source": [
    "'''\n",
    "     0\n",
    "   /   \\\n",
    "  1     2\n",
    " / \\   / \\\n",
    "3   4  5  6\n",
    "'''\n",
    "\n",
    "g = Graph(7)\n",
    "g.addEdge(0, 1)\n",
    "g.addEdge(0, 2)\n",
    "g.addEdge(1, 3)\n",
    "g.addEdge(1, 4)\n",
    "g.addEdge(2, 5)\n",
    "g.addEdge(2, 6)\n",
    "g.display()\n",
    "\n",
    "g.bfs(0)"
   ]
  },
  {
   "cell_type": "code",
   "execution_count": null,
   "id": "130fa245",
   "metadata": {},
   "outputs": [],
   "source": []
  }
 ],
 "metadata": {
  "kernelspec": {
   "display_name": "Python 3 (ipykernel)",
   "language": "python",
   "name": "python3"
  },
  "language_info": {
   "codemirror_mode": {
    "name": "ipython",
    "version": 3
   },
   "file_extension": ".py",
   "mimetype": "text/x-python",
   "name": "python",
   "nbconvert_exporter": "python",
   "pygments_lexer": "ipython3",
   "version": "3.9.13"
  }
 },
 "nbformat": 4,
 "nbformat_minor": 5
}
